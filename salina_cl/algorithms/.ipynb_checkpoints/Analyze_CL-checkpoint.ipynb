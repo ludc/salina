{
 "cells": [
  {
   "cell_type": "code",
   "execution_count": 1,
   "id": "f4a109d2",
   "metadata": {},
   "outputs": [],
   "source": [
    "import os\n",
    "import sys\n",
    "sys.path.insert(0, os.path.abspath('/private/home/jbgaya/Work/salina/salina_cl/'))"
   ]
  },
  {
   "cell_type": "markdown",
   "id": "ec926b46",
   "metadata": {},
   "source": [
    "# Loading logs"
   ]
  },
  {
   "cell_type": "code",
   "execution_count": 2,
   "id": "d3ead582",
   "metadata": {},
   "outputs": [
    {
     "name": "stdout",
     "output_type": "stream",
     "text": [
      "== Read  /private/home/jbgaya/Work/salina/salina_cl/multirun/cartpole_test_7tasks/ppo_finetune/model.params.ppo.action_std=0.4/model.params.ppo.clip_ratio=0.1/model.params.ppo.optimizer_critic.lr=0.01/seed=1\n",
      "== Read  /private/home/jbgaya/Work/salina/salina_cl/multirun/cartpole_test_7tasks/ppo_finetune/model.params.ppo.action_std=0.4/model.params.ppo.clip_ratio=0.1/model.params.ppo.optimizer_critic.lr=0.01/seed=0\n",
      "== Read  /private/home/jbgaya/Work/salina/salina_cl/multirun/cartpole_test_7tasks/ppo_finetune/model.params.ppo.action_std=0.4/model.params.ppo.clip_ratio=0.1/model.params.ppo.optimizer_critic.lr=0.01/seed=2\n",
      "== Read  /private/home/jbgaya/Work/salina/salina_cl/multirun/cartpole_test_7tasks/ppo_finetune/model.params.ppo.action_std=0.4/model.params.ppo.clip_ratio=0.1/model.params.ppo.optimizer_critic.lr=0.001/seed=1\n",
      "== Read  /private/home/jbgaya/Work/salina/salina_cl/multirun/cartpole_test_7tasks/ppo_finetune/model.params.ppo.action_std=0.4/model.params.ppo.clip_ratio=0.1/model.params.ppo.optimizer_critic.lr=0.001/seed=0\n",
      "== Read  /private/home/jbgaya/Work/salina/salina_cl/multirun/cartpole_test_7tasks/ppo_finetune/model.params.ppo.action_std=0.4/model.params.ppo.clip_ratio=0.1/model.params.ppo.optimizer_critic.lr=0.001/seed=2\n",
      "== Read  /private/home/jbgaya/Work/salina/salina_cl/multirun/cartpole_test_7tasks/ppo_finetune/model.params.ppo.action_std=0.4/model.params.ppo.clip_ratio=0.1/model.params.ppo.optimizer_critic.lr=0.0003/seed=0\n",
      "== Read  /private/home/jbgaya/Work/salina/salina_cl/multirun/cartpole_test_7tasks/ppo_finetune/model.params.ppo.action_std=0.4/model.params.ppo.clip_ratio=0.1/model.params.ppo.optimizer_critic.lr=0.0003/seed=1\n",
      "== Read  /private/home/jbgaya/Work/salina/salina_cl/multirun/cartpole_test_7tasks/ppo_finetune/model.params.ppo.action_std=0.4/model.params.ppo.clip_ratio=0.1/model.params.ppo.optimizer_critic.lr=0.0003/seed=2\n",
      "== Read  /private/home/jbgaya/Work/salina/salina_cl/multirun/cartpole_test_7tasks/ppo_finetune/model.params.ppo.action_std=0.4/model.params.ppo.clip_ratio=0.2/model.params.ppo.optimizer_critic.lr=0.01/seed=2\n",
      "== Read  /private/home/jbgaya/Work/salina/salina_cl/multirun/cartpole_test_7tasks/ppo_finetune/model.params.ppo.action_std=0.4/model.params.ppo.clip_ratio=0.2/model.params.ppo.optimizer_critic.lr=0.01/seed=0\n",
      "== Read  /private/home/jbgaya/Work/salina/salina_cl/multirun/cartpole_test_7tasks/ppo_finetune/model.params.ppo.action_std=0.4/model.params.ppo.clip_ratio=0.2/model.params.ppo.optimizer_critic.lr=0.01/seed=1\n",
      "== Read  /private/home/jbgaya/Work/salina/salina_cl/multirun/cartpole_test_7tasks/ppo_finetune/model.params.ppo.action_std=0.4/model.params.ppo.clip_ratio=0.2/model.params.ppo.optimizer_critic.lr=0.001/seed=1\n",
      "== Read  /private/home/jbgaya/Work/salina/salina_cl/multirun/cartpole_test_7tasks/ppo_finetune/model.params.ppo.action_std=0.4/model.params.ppo.clip_ratio=0.2/model.params.ppo.optimizer_critic.lr=0.001/seed=2\n",
      "== Read  /private/home/jbgaya/Work/salina/salina_cl/multirun/cartpole_test_7tasks/ppo_finetune/model.params.ppo.action_std=0.4/model.params.ppo.clip_ratio=0.2/model.params.ppo.optimizer_critic.lr=0.001/seed=0\n",
      "== Read  /private/home/jbgaya/Work/salina/salina_cl/multirun/cartpole_test_7tasks/ppo_finetune/model.params.ppo.action_std=0.4/model.params.ppo.clip_ratio=0.2/model.params.ppo.optimizer_critic.lr=0.0003/seed=2\n",
      "== Read  /private/home/jbgaya/Work/salina/salina_cl/multirun/cartpole_test_7tasks/ppo_finetune/model.params.ppo.action_std=0.4/model.params.ppo.clip_ratio=0.2/model.params.ppo.optimizer_critic.lr=0.0003/seed=0\n",
      "== Read  /private/home/jbgaya/Work/salina/salina_cl/multirun/cartpole_test_7tasks/ppo_finetune/model.params.ppo.action_std=0.4/model.params.ppo.clip_ratio=0.2/model.params.ppo.optimizer_critic.lr=0.0003/seed=1\n",
      "== Read  /private/home/jbgaya/Work/salina/salina_cl/multirun/cartpole_test_7tasks/ppo_finetune/model.params.ppo.action_std=0.4/model.params.ppo.clip_ratio=0.3/model.params.ppo.optimizer_critic.lr=0.01/seed=0\n",
      "== Read  /private/home/jbgaya/Work/salina/salina_cl/multirun/cartpole_test_7tasks/ppo_finetune/model.params.ppo.action_std=0.4/model.params.ppo.clip_ratio=0.3/model.params.ppo.optimizer_critic.lr=0.01/seed=2\n",
      "== Read  /private/home/jbgaya/Work/salina/salina_cl/multirun/cartpole_test_7tasks/ppo_finetune/model.params.ppo.action_std=0.4/model.params.ppo.clip_ratio=0.3/model.params.ppo.optimizer_critic.lr=0.01/seed=1\n",
      "== Read  /private/home/jbgaya/Work/salina/salina_cl/multirun/cartpole_test_7tasks/ppo_finetune/model.params.ppo.action_std=0.4/model.params.ppo.clip_ratio=0.3/model.params.ppo.optimizer_critic.lr=0.001/seed=1\n",
      "== Read  /private/home/jbgaya/Work/salina/salina_cl/multirun/cartpole_test_7tasks/ppo_finetune/model.params.ppo.action_std=0.4/model.params.ppo.clip_ratio=0.3/model.params.ppo.optimizer_critic.lr=0.001/seed=2\n",
      "== Read  /private/home/jbgaya/Work/salina/salina_cl/multirun/cartpole_test_7tasks/ppo_finetune/model.params.ppo.action_std=0.4/model.params.ppo.clip_ratio=0.3/model.params.ppo.optimizer_critic.lr=0.001/seed=0\n",
      "== Read  /private/home/jbgaya/Work/salina/salina_cl/multirun/cartpole_test_7tasks/ppo_finetune/model.params.ppo.action_std=0.4/model.params.ppo.clip_ratio=0.3/model.params.ppo.optimizer_critic.lr=0.0003/seed=2\n",
      "== Read  /private/home/jbgaya/Work/salina/salina_cl/multirun/cartpole_test_7tasks/ppo_finetune/model.params.ppo.action_std=0.4/model.params.ppo.clip_ratio=0.3/model.params.ppo.optimizer_critic.lr=0.0003/seed=0\n",
      "== Read  /private/home/jbgaya/Work/salina/salina_cl/multirun/cartpole_test_7tasks/ppo_finetune/model.params.ppo.action_std=0.4/model.params.ppo.clip_ratio=0.3/model.params.ppo.optimizer_critic.lr=0.0003/seed=1\n",
      "== Read  /private/home/jbgaya/Work/salina/salina_cl/multirun/cartpole_test_7tasks/ppo_finetune/model.params.ppo.action_std=0.2/model.params.ppo.clip_ratio=0.1/model.params.ppo.optimizer_critic.lr=0.01/seed=0\n",
      "== Read  /private/home/jbgaya/Work/salina/salina_cl/multirun/cartpole_test_7tasks/ppo_finetune/model.params.ppo.action_std=0.2/model.params.ppo.clip_ratio=0.1/model.params.ppo.optimizer_critic.lr=0.01/seed=1\n",
      "== Read  /private/home/jbgaya/Work/salina/salina_cl/multirun/cartpole_test_7tasks/ppo_finetune/model.params.ppo.action_std=0.2/model.params.ppo.clip_ratio=0.1/model.params.ppo.optimizer_critic.lr=0.01/seed=2\n",
      "== Read  /private/home/jbgaya/Work/salina/salina_cl/multirun/cartpole_test_7tasks/ppo_finetune/model.params.ppo.action_std=0.2/model.params.ppo.clip_ratio=0.1/model.params.ppo.optimizer_critic.lr=0.001/seed=0\n",
      "== Read  /private/home/jbgaya/Work/salina/salina_cl/multirun/cartpole_test_7tasks/ppo_finetune/model.params.ppo.action_std=0.2/model.params.ppo.clip_ratio=0.1/model.params.ppo.optimizer_critic.lr=0.001/seed=1\n",
      "== Read  /private/home/jbgaya/Work/salina/salina_cl/multirun/cartpole_test_7tasks/ppo_finetune/model.params.ppo.action_std=0.2/model.params.ppo.clip_ratio=0.1/model.params.ppo.optimizer_critic.lr=0.001/seed=2\n",
      "== Read  /private/home/jbgaya/Work/salina/salina_cl/multirun/cartpole_test_7tasks/ppo_finetune/model.params.ppo.action_std=0.2/model.params.ppo.clip_ratio=0.1/model.params.ppo.optimizer_critic.lr=0.0003/seed=1\n",
      "== Read  /private/home/jbgaya/Work/salina/salina_cl/multirun/cartpole_test_7tasks/ppo_finetune/model.params.ppo.action_std=0.2/model.params.ppo.clip_ratio=0.1/model.params.ppo.optimizer_critic.lr=0.0003/seed=2\n",
      "== Read  /private/home/jbgaya/Work/salina/salina_cl/multirun/cartpole_test_7tasks/ppo_finetune/model.params.ppo.action_std=0.2/model.params.ppo.clip_ratio=0.1/model.params.ppo.optimizer_critic.lr=0.0003/seed=0\n",
      "== Read  /private/home/jbgaya/Work/salina/salina_cl/multirun/cartpole_test_7tasks/ppo_finetune/model.params.ppo.action_std=0.2/model.params.ppo.clip_ratio=0.2/model.params.ppo.optimizer_critic.lr=0.01/seed=0\n",
      "== Read  /private/home/jbgaya/Work/salina/salina_cl/multirun/cartpole_test_7tasks/ppo_finetune/model.params.ppo.action_std=0.2/model.params.ppo.clip_ratio=0.2/model.params.ppo.optimizer_critic.lr=0.01/seed=1\n",
      "== Read  /private/home/jbgaya/Work/salina/salina_cl/multirun/cartpole_test_7tasks/ppo_finetune/model.params.ppo.action_std=0.2/model.params.ppo.clip_ratio=0.2/model.params.ppo.optimizer_critic.lr=0.01/seed=2\n",
      "== Read  /private/home/jbgaya/Work/salina/salina_cl/multirun/cartpole_test_7tasks/ppo_finetune/model.params.ppo.action_std=0.2/model.params.ppo.clip_ratio=0.2/model.params.ppo.optimizer_critic.lr=0.001/seed=1\n"
     ]
    },
    {
     "name": "stdout",
     "output_type": "stream",
     "text": [
      "== Read  /private/home/jbgaya/Work/salina/salina_cl/multirun/cartpole_test_7tasks/ppo_finetune/model.params.ppo.action_std=0.2/model.params.ppo.clip_ratio=0.2/model.params.ppo.optimizer_critic.lr=0.001/seed=2\n",
      "== Read  /private/home/jbgaya/Work/salina/salina_cl/multirun/cartpole_test_7tasks/ppo_finetune/model.params.ppo.action_std=0.2/model.params.ppo.clip_ratio=0.2/model.params.ppo.optimizer_critic.lr=0.001/seed=0\n",
      "== Read  /private/home/jbgaya/Work/salina/salina_cl/multirun/cartpole_test_7tasks/ppo_finetune/model.params.ppo.action_std=0.2/model.params.ppo.clip_ratio=0.2/model.params.ppo.optimizer_critic.lr=0.0003/seed=0\n",
      "== Read  /private/home/jbgaya/Work/salina/salina_cl/multirun/cartpole_test_7tasks/ppo_finetune/model.params.ppo.action_std=0.2/model.params.ppo.clip_ratio=0.2/model.params.ppo.optimizer_critic.lr=0.0003/seed=1\n",
      "== Read  /private/home/jbgaya/Work/salina/salina_cl/multirun/cartpole_test_7tasks/ppo_finetune/model.params.ppo.action_std=0.2/model.params.ppo.clip_ratio=0.2/model.params.ppo.optimizer_critic.lr=0.0003/seed=2\n",
      "== Read  /private/home/jbgaya/Work/salina/salina_cl/multirun/cartpole_test_7tasks/ppo_finetune/model.params.ppo.action_std=0.2/model.params.ppo.clip_ratio=0.3/model.params.ppo.optimizer_critic.lr=0.01/seed=0\n",
      "== Read  /private/home/jbgaya/Work/salina/salina_cl/multirun/cartpole_test_7tasks/ppo_finetune/model.params.ppo.action_std=0.2/model.params.ppo.clip_ratio=0.3/model.params.ppo.optimizer_critic.lr=0.01/seed=1\n",
      "== Read  /private/home/jbgaya/Work/salina/salina_cl/multirun/cartpole_test_7tasks/ppo_finetune/model.params.ppo.action_std=0.2/model.params.ppo.clip_ratio=0.3/model.params.ppo.optimizer_critic.lr=0.01/seed=2\n",
      "== Read  /private/home/jbgaya/Work/salina/salina_cl/multirun/cartpole_test_7tasks/ppo_finetune/model.params.ppo.action_std=0.2/model.params.ppo.clip_ratio=0.3/model.params.ppo.optimizer_critic.lr=0.001/seed=1\n",
      "== Read  /private/home/jbgaya/Work/salina/salina_cl/multirun/cartpole_test_7tasks/ppo_finetune/model.params.ppo.action_std=0.2/model.params.ppo.clip_ratio=0.3/model.params.ppo.optimizer_critic.lr=0.001/seed=2\n",
      "== Read  /private/home/jbgaya/Work/salina/salina_cl/multirun/cartpole_test_7tasks/ppo_finetune/model.params.ppo.action_std=0.2/model.params.ppo.clip_ratio=0.3/model.params.ppo.optimizer_critic.lr=0.001/seed=0\n",
      "== Read  /private/home/jbgaya/Work/salina/salina_cl/multirun/cartpole_test_7tasks/ppo_finetune/model.params.ppo.action_std=0.2/model.params.ppo.clip_ratio=0.3/model.params.ppo.optimizer_critic.lr=0.0003/seed=2\n",
      "== Read  /private/home/jbgaya/Work/salina/salina_cl/multirun/cartpole_test_7tasks/ppo_finetune/model.params.ppo.action_std=0.2/model.params.ppo.clip_ratio=0.3/model.params.ppo.optimizer_critic.lr=0.0003/seed=0\n",
      "== Read  /private/home/jbgaya/Work/salina/salina_cl/multirun/cartpole_test_7tasks/ppo_finetune/model.params.ppo.action_std=0.2/model.params.ppo.clip_ratio=0.3/model.params.ppo.optimizer_critic.lr=0.0003/seed=1\n",
      "== Read  /private/home/jbgaya/Work/salina/salina_cl/multirun/cartpole_test_7tasks/ppo_finetune/model.params.ppo.action_std=0.3/model.params.ppo.clip_ratio=0.1/model.params.ppo.optimizer_critic.lr=0.01/seed=1\n",
      "== Read  /private/home/jbgaya/Work/salina/salina_cl/multirun/cartpole_test_7tasks/ppo_finetune/model.params.ppo.action_std=0.3/model.params.ppo.clip_ratio=0.1/model.params.ppo.optimizer_critic.lr=0.01/seed=2\n",
      "== Read  /private/home/jbgaya/Work/salina/salina_cl/multirun/cartpole_test_7tasks/ppo_finetune/model.params.ppo.action_std=0.3/model.params.ppo.clip_ratio=0.1/model.params.ppo.optimizer_critic.lr=0.01/seed=0\n",
      "== Read  /private/home/jbgaya/Work/salina/salina_cl/multirun/cartpole_test_7tasks/ppo_finetune/model.params.ppo.action_std=0.3/model.params.ppo.clip_ratio=0.1/model.params.ppo.optimizer_critic.lr=0.001/seed=0\n",
      "== Read  /private/home/jbgaya/Work/salina/salina_cl/multirun/cartpole_test_7tasks/ppo_finetune/model.params.ppo.action_std=0.3/model.params.ppo.clip_ratio=0.1/model.params.ppo.optimizer_critic.lr=0.001/seed=1\n",
      "== Read  /private/home/jbgaya/Work/salina/salina_cl/multirun/cartpole_test_7tasks/ppo_finetune/model.params.ppo.action_std=0.3/model.params.ppo.clip_ratio=0.1/model.params.ppo.optimizer_critic.lr=0.001/seed=2\n",
      "== Read  /private/home/jbgaya/Work/salina/salina_cl/multirun/cartpole_test_7tasks/ppo_finetune/model.params.ppo.action_std=0.3/model.params.ppo.clip_ratio=0.1/model.params.ppo.optimizer_critic.lr=0.0003/seed=2\n",
      "== Read  /private/home/jbgaya/Work/salina/salina_cl/multirun/cartpole_test_7tasks/ppo_finetune/model.params.ppo.action_std=0.3/model.params.ppo.clip_ratio=0.1/model.params.ppo.optimizer_critic.lr=0.0003/seed=0\n",
      "== Read  /private/home/jbgaya/Work/salina/salina_cl/multirun/cartpole_test_7tasks/ppo_finetune/model.params.ppo.action_std=0.3/model.params.ppo.clip_ratio=0.1/model.params.ppo.optimizer_critic.lr=0.0003/seed=1\n",
      "== Read  /private/home/jbgaya/Work/salina/salina_cl/multirun/cartpole_test_7tasks/ppo_finetune/model.params.ppo.action_std=0.3/model.params.ppo.clip_ratio=0.2/model.params.ppo.optimizer_critic.lr=0.01/seed=1\n",
      "== Read  /private/home/jbgaya/Work/salina/salina_cl/multirun/cartpole_test_7tasks/ppo_finetune/model.params.ppo.action_std=0.3/model.params.ppo.clip_ratio=0.2/model.params.ppo.optimizer_critic.lr=0.01/seed=0\n",
      "== Read  /private/home/jbgaya/Work/salina/salina_cl/multirun/cartpole_test_7tasks/ppo_finetune/model.params.ppo.action_std=0.3/model.params.ppo.clip_ratio=0.2/model.params.ppo.optimizer_critic.lr=0.01/seed=2\n",
      "== Read  /private/home/jbgaya/Work/salina/salina_cl/multirun/cartpole_test_7tasks/ppo_finetune/model.params.ppo.action_std=0.3/model.params.ppo.clip_ratio=0.2/model.params.ppo.optimizer_critic.lr=0.001/seed=0\n",
      "== Read  /private/home/jbgaya/Work/salina/salina_cl/multirun/cartpole_test_7tasks/ppo_finetune/model.params.ppo.action_std=0.3/model.params.ppo.clip_ratio=0.2/model.params.ppo.optimizer_critic.lr=0.001/seed=1\n",
      "== Read  /private/home/jbgaya/Work/salina/salina_cl/multirun/cartpole_test_7tasks/ppo_finetune/model.params.ppo.action_std=0.3/model.params.ppo.clip_ratio=0.2/model.params.ppo.optimizer_critic.lr=0.001/seed=2\n",
      "== Read  /private/home/jbgaya/Work/salina/salina_cl/multirun/cartpole_test_7tasks/ppo_finetune/model.params.ppo.action_std=0.3/model.params.ppo.clip_ratio=0.2/model.params.ppo.optimizer_critic.lr=0.0003/seed=0\n",
      "== Read  /private/home/jbgaya/Work/salina/salina_cl/multirun/cartpole_test_7tasks/ppo_finetune/model.params.ppo.action_std=0.3/model.params.ppo.clip_ratio=0.2/model.params.ppo.optimizer_critic.lr=0.0003/seed=1\n",
      "== Read  /private/home/jbgaya/Work/salina/salina_cl/multirun/cartpole_test_7tasks/ppo_finetune/model.params.ppo.action_std=0.3/model.params.ppo.clip_ratio=0.2/model.params.ppo.optimizer_critic.lr=0.0003/seed=2\n",
      "== Read  /private/home/jbgaya/Work/salina/salina_cl/multirun/cartpole_test_7tasks/ppo_finetune/model.params.ppo.action_std=0.3/model.params.ppo.clip_ratio=0.3/model.params.ppo.optimizer_critic.lr=0.01/seed=2\n",
      "== Read  /private/home/jbgaya/Work/salina/salina_cl/multirun/cartpole_test_7tasks/ppo_finetune/model.params.ppo.action_std=0.3/model.params.ppo.clip_ratio=0.3/model.params.ppo.optimizer_critic.lr=0.01/seed=0\n",
      "== Read  /private/home/jbgaya/Work/salina/salina_cl/multirun/cartpole_test_7tasks/ppo_finetune/model.params.ppo.action_std=0.3/model.params.ppo.clip_ratio=0.3/model.params.ppo.optimizer_critic.lr=0.01/seed=1\n",
      "== Read  /private/home/jbgaya/Work/salina/salina_cl/multirun/cartpole_test_7tasks/ppo_finetune/model.params.ppo.action_std=0.3/model.params.ppo.clip_ratio=0.3/model.params.ppo.optimizer_critic.lr=0.001/seed=1\n",
      "== Read  /private/home/jbgaya/Work/salina/salina_cl/multirun/cartpole_test_7tasks/ppo_finetune/model.params.ppo.action_std=0.3/model.params.ppo.clip_ratio=0.3/model.params.ppo.optimizer_critic.lr=0.001/seed=2\n",
      "== Read  /private/home/jbgaya/Work/salina/salina_cl/multirun/cartpole_test_7tasks/ppo_finetune/model.params.ppo.action_std=0.3/model.params.ppo.clip_ratio=0.3/model.params.ppo.optimizer_critic.lr=0.001/seed=0\n",
      "== Read  /private/home/jbgaya/Work/salina/salina_cl/multirun/cartpole_test_7tasks/ppo_finetune/model.params.ppo.action_std=0.3/model.params.ppo.clip_ratio=0.3/model.params.ppo.optimizer_critic.lr=0.0003/seed=1\n",
      "== Read  /private/home/jbgaya/Work/salina/salina_cl/multirun/cartpole_test_7tasks/ppo_finetune/model.params.ppo.action_std=0.3/model.params.ppo.clip_ratio=0.3/model.params.ppo.optimizer_critic.lr=0.0003/seed=0\n"
     ]
    },
    {
     "name": "stdout",
     "output_type": "stream",
     "text": [
      "== Read  /private/home/jbgaya/Work/salina/salina_cl/multirun/cartpole_test_7tasks/ppo_finetune/model.params.ppo.action_std=0.3/model.params.ppo.clip_ratio=0.3/model.params.ppo.optimizer_critic.lr=0.0003/seed=2\n",
      "Found 81 logs\n"
     ]
    }
   ],
   "source": [
    "import salina.logger\n",
    "LOGS=salina.logger.read_directory(\"/private/home/jbgaya/Work/salina/salina_cl/multirun\",use_bz2=True)"
   ]
  },
  {
   "cell_type": "markdown",
   "id": "5bbc7db9",
   "metadata": {},
   "source": [
    "# Extracting available scenarios"
   ]
  },
  {
   "cell_type": "code",
   "execution_count": 3,
   "id": "6fa2c906",
   "metadata": {},
   "outputs": [
    {
     "name": "stdout",
     "output_type": "stream",
     "text": [
      "Found  1  unique scenarios\n"
     ]
    }
   ],
   "source": [
    "def extract_scenario(log):\n",
    "    values={}\n",
    "    for k in log.hps:\n",
    "        if k.startswith(\"scenario\"):\n",
    "            values[k]=log.hps[k]\n",
    "    return values\n",
    "\n",
    "def has_scenario(log,scenario):\n",
    "    s=extract_scenario(log)\n",
    "    s=str(s)\n",
    "    return s==str(scenario)\n",
    "    \n",
    "def unique_scenarios(logs):\n",
    "    _unique_scenarios={}\n",
    "    for l in logs.logs:\n",
    "        scenario=extract_scenario(l)\n",
    "        _unique_scenarios[str(scenario)]=scenario\n",
    "    _unique_scenarios=[v for s,v in _unique_scenarios.items()]\n",
    "    return _unique_scenarios\n",
    "print(\"Found \",len(unique_scenarios(LOGS)),\" unique scenarios\")\n",
    "\n",
    "def generate_scenario_html(scenario):\n",
    "    results=[\"<h2>Scenario</h2>\"]\n",
    "    results.append(\"<ul>\")\n",
    "    \n",
    "    for k,v in scenario.items():\n",
    "        results.append(\"<li><b>\"+k+\"</b> =\"+str(v)+\"</li>\")\n",
    "    results.append(\"</ul>\")\n",
    "    return \"\".join(results)"
   ]
  },
  {
   "cell_type": "code",
   "execution_count": 4,
   "id": "19202782",
   "metadata": {},
   "outputs": [],
   "source": [
    "def generate_hps_html(hps):\n",
    "    results=[\"<h2>Hyper-parameters</h2>\"]\n",
    "    results.append(\"<ul>\")\n",
    "    \n",
    "    for k,v in hps.items():\n",
    "        if k.startswith(\"model\"):\n",
    "            results.append(\"<li><b>\"+k+\"</b> =\"+str(v)+\"</li>\")\n",
    "    results.append(\"</ul>\")\n",
    "    return \"\".join(results)\n",
    "\n",
    "def generate_reward_html(reward_mean,reward_std):\n",
    "    results=[\"<h2>Reward</h2>\"]\n",
    "    results.append(\"<table>\")\n",
    "    n,_=reward_mean.shape\n",
    "    \n",
    "    results.append(\"<tr><td>Task \\\\ Stage </td>\")\n",
    "    for stage in range(n): results.append(\"<td><b>\"+str(stage)+\"</b></td>\")\n",
    "    results.append(\"</tr>\")\n",
    "    \n",
    "    for task in range(n):\n",
    "        results.append(\"<tr><td><b>\"+str(task)+\"</b></td>\")\n",
    "        for stage in range(n): \n",
    "            r=reward_mean[task][stage]\n",
    "            rs=reward_std[task][stage]\n",
    "            results.append(\"<td>\"+str(r)+\"<i>(\"+str(rs)+\")</i></td>\")\n",
    "        results.append(\"</tr>\")\n",
    "    results.append(\"</table>\")\n",
    "    return \"\".join(results)\n"
   ]
  },
  {
   "cell_type": "markdown",
   "id": "39bc5344",
   "metadata": {},
   "source": [
    "# Extracting unique hps"
   ]
  },
  {
   "cell_type": "code",
   "execution_count": 5,
   "id": "9d277328",
   "metadata": {},
   "outputs": [],
   "source": [
    "# Remove the run information and extrat the hps as a str in each log\n",
    "import copy\n",
    "def extract_hps(log):\n",
    "    values={}\n",
    "    for k,v in log.hps.items():\n",
    "        if not k==\"model/seed\" and not k.endswith(\"device\"):\n",
    "            values[k]=v\n",
    "    return values\n",
    "    "
   ]
  },
  {
   "cell_type": "markdown",
   "id": "d0a48f31",
   "metadata": {},
   "source": [
    "# Scenario Analysis"
   ]
  },
  {
   "cell_type": "code",
   "execution_count": 14,
   "id": "d39359a9",
   "metadata": {},
   "outputs": [
    {
     "data": {
      "text/html": [
       "<h2>Scenario</h2><ul><li><b>scenario/classname</b> =salina_cl.scenarios.classic_control.cartpole.cartpole_test</li><li><b>scenario/name</b> =cartpole_test_7tasks</li><li><b>scenario/n_train_envs</b> =16</li><li><b>scenario/n_evaluation_envs</b> =64</li><li><b>scenario/n_tasks</b> =7</li><li><b>scenario/n_steps</b> =100000</li></ul>"
      ],
      "text/plain": [
       "<IPython.core.display.HTML object>"
      ]
     },
     "metadata": {},
     "output_type": "display_data"
    },
    {
     "name": "stdout",
     "output_type": "stream",
     "text": [
      "Found  81  different Hps values\n",
      "Analyzing  1  logs\n",
      "[0 1 2 3 4 5 6]\n"
     ]
    },
    {
     "ename": "IndexError",
     "evalue": "single positional indexer is out-of-bounds",
     "output_type": "error",
     "traceback": [
      "\u001b[0;31m---------------------------------------------------------------------------\u001b[0m",
      "\u001b[0;31mIndexError\u001b[0m                                Traceback (most recent call last)",
      "\u001b[0;32m<ipython-input-14-426a37118f8f>\u001b[0m in \u001b[0;36m<module>\u001b[0;34m\u001b[0m\n\u001b[1;32m     68\u001b[0m \u001b[0;34m\u001b[0m\u001b[0m\n\u001b[1;32m     69\u001b[0m \u001b[0;32mfor\u001b[0m \u001b[0mscenario\u001b[0m \u001b[0;32min\u001b[0m \u001b[0munique_scenarios\u001b[0m\u001b[0;34m(\u001b[0m\u001b[0mLOGS\u001b[0m\u001b[0;34m)\u001b[0m\u001b[0;34m:\u001b[0m\u001b[0;34m\u001b[0m\u001b[0;34m\u001b[0m\u001b[0m\n\u001b[0;32m---> 70\u001b[0;31m     \u001b[0manalyze_scenario\u001b[0m\u001b[0;34m(\u001b[0m\u001b[0mLOGS\u001b[0m\u001b[0;34m,\u001b[0m\u001b[0mscenario\u001b[0m\u001b[0;34m)\u001b[0m\u001b[0;34m\u001b[0m\u001b[0;34m\u001b[0m\u001b[0m\n\u001b[0m",
      "\u001b[0;32m<ipython-input-14-426a37118f8f>\u001b[0m in \u001b[0;36manalyze_scenario\u001b[0;34m(logs, scenario)\u001b[0m\n\u001b[1;32m     59\u001b[0m         \u001b[0;31m#print(\"h:\",h)\u001b[0m\u001b[0;34m\u001b[0m\u001b[0;34m\u001b[0m\u001b[0;34m\u001b[0m\u001b[0m\n\u001b[1;32m     60\u001b[0m         \u001b[0;31m#print(\"\\n\\n\\nper_hps[h]:\",per_hps[h])\u001b[0m\u001b[0;34m\u001b[0m\u001b[0;34m\u001b[0m\u001b[0;34m\u001b[0m\u001b[0m\n\u001b[0;32m---> 61\u001b[0;31m         \u001b[0mreward_mean\u001b[0m\u001b[0;34m,\u001b[0m\u001b[0mreward_std\u001b[0m\u001b[0;34m,\u001b[0m\u001b[0mmemory_mean\u001b[0m\u001b[0;34m,\u001b[0m\u001b[0mmemory_std\u001b[0m\u001b[0;34m,\u001b[0m\u001b[0mhps\u001b[0m\u001b[0;34m=\u001b[0m\u001b[0manalyze_runs\u001b[0m\u001b[0;34m(\u001b[0m\u001b[0mper_hps\u001b[0m\u001b[0;34m[\u001b[0m\u001b[0mh\u001b[0m\u001b[0;34m]\u001b[0m\u001b[0;34m)\u001b[0m\u001b[0;34m\u001b[0m\u001b[0;34m\u001b[0m\u001b[0m\n\u001b[0m\u001b[1;32m     62\u001b[0m \u001b[0;34m\u001b[0m\u001b[0m\n\u001b[1;32m     63\u001b[0m         \u001b[0;31m#Generate HTML\u001b[0m\u001b[0;34m\u001b[0m\u001b[0;34m\u001b[0m\u001b[0;34m\u001b[0m\u001b[0m\n",
      "\u001b[0;32m<ipython-input-14-426a37118f8f>\u001b[0m in \u001b[0;36manalyze_runs\u001b[0;34m(logs)\u001b[0m\n\u001b[1;32m     35\u001b[0m \u001b[0;34m\u001b[0m\u001b[0m\n\u001b[1;32m     36\u001b[0m             \u001b[0md\u001b[0m\u001b[0;34m=\u001b[0m\u001b[0mdf_std\u001b[0m\u001b[0;34m[\u001b[0m\u001b[0mdf_std\u001b[0m\u001b[0;34m[\u001b[0m\u001b[0;34m\"iteration\"\u001b[0m\u001b[0;34m]\u001b[0m\u001b[0;34m==\u001b[0m\u001b[0mstage\u001b[0m\u001b[0;34m]\u001b[0m\u001b[0;34m\u001b[0m\u001b[0;34m\u001b[0m\u001b[0m\n\u001b[0;32m---> 37\u001b[0;31m             \u001b[0mreward_std\u001b[0m\u001b[0;34m=\u001b[0m\u001b[0md\u001b[0m\u001b[0;34m.\u001b[0m\u001b[0miloc\u001b[0m\u001b[0;34m[\u001b[0m\u001b[0;36m0\u001b[0m\u001b[0;34m]\u001b[0m\u001b[0;34m[\u001b[0m\u001b[0mn\u001b[0m\u001b[0;34m]\u001b[0m\u001b[0;34m\u001b[0m\u001b[0;34m\u001b[0m\u001b[0m\n\u001b[0m\u001b[1;32m     38\u001b[0m             \u001b[0mmemory_std\u001b[0m\u001b[0;34m[\u001b[0m\u001b[0mstage\u001b[0m\u001b[0;34m]\u001b[0m\u001b[0;34m=\u001b[0m\u001b[0md\u001b[0m\u001b[0;34m.\u001b[0m\u001b[0miloc\u001b[0m\u001b[0;34m[\u001b[0m\u001b[0;36m0\u001b[0m\u001b[0;34m]\u001b[0m\u001b[0;34m[\u001b[0m\u001b[0;34m\"evaluation/memory/n_parameters\"\u001b[0m\u001b[0;34m]\u001b[0m\u001b[0;34m\u001b[0m\u001b[0;34m\u001b[0m\u001b[0m\n\u001b[1;32m     39\u001b[0m             \u001b[0mr_std\u001b[0m\u001b[0;34m[\u001b[0m\u001b[0mtask\u001b[0m\u001b[0;34m]\u001b[0m\u001b[0;34m[\u001b[0m\u001b[0mstage\u001b[0m\u001b[0;34m]\u001b[0m\u001b[0;34m=\u001b[0m\u001b[0mreward_std\u001b[0m\u001b[0;34m\u001b[0m\u001b[0;34m\u001b[0m\u001b[0m\n",
      "\u001b[0;32m~/.conda/envs/metarl/lib/python3.8/site-packages/pandas/core/indexing.py\u001b[0m in \u001b[0;36m__getitem__\u001b[0;34m(self, key)\u001b[0m\n\u001b[1;32m    893\u001b[0m \u001b[0;34m\u001b[0m\u001b[0m\n\u001b[1;32m    894\u001b[0m             \u001b[0mmaybe_callable\u001b[0m \u001b[0;34m=\u001b[0m \u001b[0mcom\u001b[0m\u001b[0;34m.\u001b[0m\u001b[0mapply_if_callable\u001b[0m\u001b[0;34m(\u001b[0m\u001b[0mkey\u001b[0m\u001b[0;34m,\u001b[0m \u001b[0mself\u001b[0m\u001b[0;34m.\u001b[0m\u001b[0mobj\u001b[0m\u001b[0;34m)\u001b[0m\u001b[0;34m\u001b[0m\u001b[0;34m\u001b[0m\u001b[0m\n\u001b[0;32m--> 895\u001b[0;31m             \u001b[0;32mreturn\u001b[0m \u001b[0mself\u001b[0m\u001b[0;34m.\u001b[0m\u001b[0m_getitem_axis\u001b[0m\u001b[0;34m(\u001b[0m\u001b[0mmaybe_callable\u001b[0m\u001b[0;34m,\u001b[0m \u001b[0maxis\u001b[0m\u001b[0;34m=\u001b[0m\u001b[0maxis\u001b[0m\u001b[0;34m)\u001b[0m\u001b[0;34m\u001b[0m\u001b[0;34m\u001b[0m\u001b[0m\n\u001b[0m\u001b[1;32m    896\u001b[0m \u001b[0;34m\u001b[0m\u001b[0m\n\u001b[1;32m    897\u001b[0m     \u001b[0;32mdef\u001b[0m \u001b[0m_is_scalar_access\u001b[0m\u001b[0;34m(\u001b[0m\u001b[0mself\u001b[0m\u001b[0;34m,\u001b[0m \u001b[0mkey\u001b[0m\u001b[0;34m:\u001b[0m \u001b[0mTuple\u001b[0m\u001b[0;34m)\u001b[0m\u001b[0;34m:\u001b[0m\u001b[0;34m\u001b[0m\u001b[0;34m\u001b[0m\u001b[0m\n",
      "\u001b[0;32m~/.conda/envs/metarl/lib/python3.8/site-packages/pandas/core/indexing.py\u001b[0m in \u001b[0;36m_getitem_axis\u001b[0;34m(self, key, axis)\u001b[0m\n\u001b[1;32m   1499\u001b[0m \u001b[0;34m\u001b[0m\u001b[0m\n\u001b[1;32m   1500\u001b[0m             \u001b[0;31m# validate the location\u001b[0m\u001b[0;34m\u001b[0m\u001b[0;34m\u001b[0m\u001b[0;34m\u001b[0m\u001b[0m\n\u001b[0;32m-> 1501\u001b[0;31m             \u001b[0mself\u001b[0m\u001b[0;34m.\u001b[0m\u001b[0m_validate_integer\u001b[0m\u001b[0;34m(\u001b[0m\u001b[0mkey\u001b[0m\u001b[0;34m,\u001b[0m \u001b[0maxis\u001b[0m\u001b[0;34m)\u001b[0m\u001b[0;34m\u001b[0m\u001b[0;34m\u001b[0m\u001b[0m\n\u001b[0m\u001b[1;32m   1502\u001b[0m \u001b[0;34m\u001b[0m\u001b[0m\n\u001b[1;32m   1503\u001b[0m             \u001b[0;32mreturn\u001b[0m \u001b[0mself\u001b[0m\u001b[0;34m.\u001b[0m\u001b[0mobj\u001b[0m\u001b[0;34m.\u001b[0m\u001b[0m_ixs\u001b[0m\u001b[0;34m(\u001b[0m\u001b[0mkey\u001b[0m\u001b[0;34m,\u001b[0m \u001b[0maxis\u001b[0m\u001b[0;34m=\u001b[0m\u001b[0maxis\u001b[0m\u001b[0;34m)\u001b[0m\u001b[0;34m\u001b[0m\u001b[0;34m\u001b[0m\u001b[0m\n",
      "\u001b[0;32m~/.conda/envs/metarl/lib/python3.8/site-packages/pandas/core/indexing.py\u001b[0m in \u001b[0;36m_validate_integer\u001b[0;34m(self, key, axis)\u001b[0m\n\u001b[1;32m   1442\u001b[0m         \u001b[0mlen_axis\u001b[0m \u001b[0;34m=\u001b[0m \u001b[0mlen\u001b[0m\u001b[0;34m(\u001b[0m\u001b[0mself\u001b[0m\u001b[0;34m.\u001b[0m\u001b[0mobj\u001b[0m\u001b[0;34m.\u001b[0m\u001b[0m_get_axis\u001b[0m\u001b[0;34m(\u001b[0m\u001b[0maxis\u001b[0m\u001b[0;34m)\u001b[0m\u001b[0;34m)\u001b[0m\u001b[0;34m\u001b[0m\u001b[0;34m\u001b[0m\u001b[0m\n\u001b[1;32m   1443\u001b[0m         \u001b[0;32mif\u001b[0m \u001b[0mkey\u001b[0m \u001b[0;34m>=\u001b[0m \u001b[0mlen_axis\u001b[0m \u001b[0;32mor\u001b[0m \u001b[0mkey\u001b[0m \u001b[0;34m<\u001b[0m \u001b[0;34m-\u001b[0m\u001b[0mlen_axis\u001b[0m\u001b[0;34m:\u001b[0m\u001b[0;34m\u001b[0m\u001b[0;34m\u001b[0m\u001b[0m\n\u001b[0;32m-> 1444\u001b[0;31m             \u001b[0;32mraise\u001b[0m \u001b[0mIndexError\u001b[0m\u001b[0;34m(\u001b[0m\u001b[0;34m\"single positional indexer is out-of-bounds\"\u001b[0m\u001b[0;34m)\u001b[0m\u001b[0;34m\u001b[0m\u001b[0;34m\u001b[0m\u001b[0m\n\u001b[0m\u001b[1;32m   1445\u001b[0m \u001b[0;34m\u001b[0m\u001b[0m\n\u001b[1;32m   1446\u001b[0m     \u001b[0;31m# -------------------------------------------------------------------\u001b[0m\u001b[0;34m\u001b[0m\u001b[0;34m\u001b[0m\u001b[0;34m\u001b[0m\u001b[0m\n",
      "\u001b[0;31mIndexError\u001b[0m: single positional indexer is out-of-bounds"
     ]
    }
   ],
   "source": [
    "import pandas as pd\n",
    "import numpy as np\n",
    "from IPython.display import display, HTML\n",
    "\n",
    "def analyze_runs(logs):\n",
    "    print(\"Analyzing \",len(logs),\" logs\")\n",
    "    hps=extract_hps(logs[0])\n",
    "    dfs=[]\n",
    "    for log in logs:\n",
    "        df=log.to_dataframe()\n",
    "        _cols=[c for c in df.columns if c.startswith(\"evaluation\")]+[\"iteration\"]        \n",
    "        df=df[_cols]\n",
    "        dfs.append(df)\n",
    "    \n",
    "    df=pd.concat(dfs)\n",
    "    df_mean=df.groupby(\"iteration\",as_index=False).mean()\n",
    "    df_std=df.groupby(\"iteration\",as_index=False).std()\n",
    "    columns=[c for c in df_mean.columns if not c==\"iteration\"]\n",
    "    df_mean=df_mean.dropna(subset=columns,how=\"all\")\n",
    "    df_std=df_std.dropna(subset=columns,how=\"all\")\n",
    "    n_tasks=df_mean[\"iteration\"].max()+1\n",
    "    #Collection reward\n",
    "    r_mean=np.zeros((n_tasks,n_tasks))\n",
    "    r_std=np.zeros((n_tasks,n_tasks))\n",
    "    memory_mean=np.zeros((n_tasks,))\n",
    "    memory_std=np.zeros((n_tasks,))\n",
    "    for task in range(n_tasks):\n",
    "        for stage in range(n_tasks):\n",
    "            n=\"evaluation/\"+str(task)+\"/avg_reward\"\n",
    "            print(df_mean[\"iteration\"].unique())\n",
    "            d=df_mean[df_mean[\"iteration\"]==stage]            \n",
    "            reward_mean=d.iloc[0][n]\n",
    "            memory_mean[stage]=d.iloc[0][\"evaluation/memory/n_parameters\"]\n",
    "            r_mean[task][stage]=reward_mean\n",
    "            \n",
    "            d=df_std[df_std[\"iteration\"]==stage]\n",
    "            reward_std=d.iloc[0][n]            \n",
    "            memory_std[stage]=d.iloc[0][\"evaluation/memory/n_parameters\"]\n",
    "            r_std[task][stage]=reward_std\n",
    "    return r_mean,r_std,memory_mean,memory_std,hps\n",
    "        \n",
    "    \n",
    "def analyze_scenario(logs,scenario):\n",
    "    h=generate_scenario_html(scenario)\n",
    "    display(HTML(h))\n",
    "    per_hps={}\n",
    "    for log in logs.logs:\n",
    "        if not has_scenario(log,scenario):\n",
    "            continue\n",
    "        h=extract_hps(log)\n",
    "        str_h=str(h)\n",
    "        if not str_h in per_hps:\n",
    "            per_hps[str_h]=[]\n",
    "        per_hps[str_h].append(log)\n",
    "    \n",
    "    print(\"Found \",len(per_hps),\" different Hps values\")\n",
    "    \n",
    "    for h in per_hps:\n",
    "        #print(\"h:\",h)\n",
    "        #print(\"\\n\\n\\nper_hps[h]:\",per_hps[h])\n",
    "        reward_mean,reward_std,memory_mean,memory_std,hps=analyze_runs(per_hps[h])\n",
    "    \n",
    "        #Generate HTML\n",
    "        h=generate_hps_html(hps)\n",
    "        display(HTML(h))\n",
    "        h=generate_reward_html(reward_mean,reward_std,)\n",
    "        display(HTML(h))\n",
    "\n",
    "for scenario in unique_scenarios(LOGS): \n",
    "    analyze_scenario(LOGS,scenario)\n"
   ]
  },
  {
   "cell_type": "code",
   "execution_count": null,
   "id": "177e842d",
   "metadata": {},
   "outputs": [],
   "source": []
  },
  {
   "cell_type": "code",
   "execution_count": null,
   "id": "3b67c0ea",
   "metadata": {},
   "outputs": [],
   "source": []
  }
 ],
 "metadata": {
  "kernelspec": {
   "display_name": "Python 3",
   "language": "python",
   "name": "python3"
  },
  "language_info": {
   "codemirror_mode": {
    "name": "ipython",
    "version": 3
   },
   "file_extension": ".py",
   "mimetype": "text/x-python",
   "name": "python",
   "nbconvert_exporter": "python",
   "pygments_lexer": "ipython3",
   "version": "3.8.8"
  }
 },
 "nbformat": 4,
 "nbformat_minor": 5
}
